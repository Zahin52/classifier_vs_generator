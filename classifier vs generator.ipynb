{
 "cells": [
  {
   "cell_type": "markdown",
   "id": "d0e439b8-3b73-4a95-ab25-5fb487a46686",
   "metadata": {
    "tags": []
   },
   "source": [
    "# This file is to collect the data and storing it in csv files\n",
    "- step 1 : collecting the 20 text classification and text generation models data ( name ,type ,updated date, downloaded , liked)\n",
    "- step 2 : collecting the app counts associated with the models obtained in the step 1\n",
    "- step 3 : collecting the source size of the apps found in the step 3\n",
    "- step 4 : clearning data ( duplicate removing )\n",
    "- step 5 : Merging all the previously obtained data in to a single csv for each classification and generation model."
   ]
  },
  {
   "cell_type": "code",
   "execution_count": null,
   "id": "7efef1c4-4170-46db-b4b9-b0ac80120785",
   "metadata": {},
   "outputs": [],
   "source": []
  },
  {
   "cell_type": "code",
   "execution_count": null,
   "id": "f43c400e-932d-4612-93df-9e591c1476d0",
   "metadata": {},
   "outputs": [],
   "source": [
    "### Importing the necesary libraries "
   ]
  },
  {
   "cell_type": "code",
   "execution_count": 1,
   "id": "7024f730-0bdf-470b-9982-fbce64cd609d",
   "metadata": {
    "tags": []
   },
   "outputs": [],
   "source": [
    "import requests\n",
    "from bs4 import BeautifulSoup\n",
    "import pandas as pd\n",
    "import matplotlib.pyplot as plt\n",
    "import csv\n",
    "import json\n",
    "from time import sleep\n",
    "import nest_asyncio\n",
    "import asyncio\n",
    "import aiohttp\n",
    "import concurrent.futures\n",
    "import ast"
   ]
  },
  {
   "cell_type": "markdown",
   "id": "3e1c5536-91b7-42c5-b24a-306236656b51",
   "metadata": {
    "tags": []
   },
   "source": [
    "# Step 1: Obtaining 20 text classification and text generation models list"
   ]
  },
  {
   "cell_type": "code",
   "execution_count": 2,
   "id": "150e9965-1fdc-48e3-aaf5-cc5fbc598dcd",
   "metadata": {
    "tags": []
   },
   "outputs": [],
   "source": [
    "# Step 1: Obtain a list of the top-20 \"Text Classification\" models\n",
    "# sorted and filterd based of most downloads\n",
    "\n",
    "classification_url = \"https://huggingface.co/models?pipeline_tag=text-classification&sort=downloads\"\n",
    "classification_models = []\n",
    "\n",
    "#capturing the web response , response type html\n",
    "response = requests.get(classification_url)\n",
    "soup = BeautifulSoup(response.content, \"html.parser\")\n",
    "model_list = soup.find_all(\"article\", class_=\"overview-card-wrapper\")\n",
    "\n",
    "# collecting data for first 20 text classification models\n",
    "for model in model_list[:20]:\n",
    "    model_name = model.find(\"header\", class_=\"flex items-center mb-0.5\").text.strip()\n",
    "    model_details  = model.find(\"div\", class_=\"mr-1 flex items-center overflow-hidden whitespace-nowrap text-sm leading-tight text-gray-400\").text.replace(\"\\t\",\"*\").replace('\\n', '*').replace('• ',\"*\").strip('').split(\"*\")\n",
    "    model_details =list(filter(bool, model_details))\n",
    "    m_type= model_details[0]\n",
    "    updated = model_details[2]\n",
    "    downloaded= model_details[3]\n",
    "    liked= model_details[4]\n",
    "    dic = {\n",
    "        \"model_name\": model_name,\n",
    "        \"model_type\": m_type,\n",
    "        \"updated\" : updated,\n",
    "        \"downloaded\" : downloaded,\n",
    "        \"liked\" : liked\n",
    "    }\n",
    "    # print(dic,end=\"\\n\")\n",
    "    classification_models.append(dic)"
   ]
  },
  {
   "cell_type": "code",
   "execution_count": 3,
   "id": "2e45dbeb-ac25-43fc-b1b2-a593b4428174",
   "metadata": {
    "tags": []
   },
   "outputs": [],
   "source": [
    "# Obtain a list of the top-20 text generation models\n",
    "# sorted and filterd based of most downloads\n",
    "\n",
    "generation_url = \"https://huggingface.co/models?pipeline_tag=text-generation&sort=downloads\"\n",
    "generation_models = []\n",
    "\n",
    "#capturing the web response , response type html\n",
    "response = requests.get(generation_url)\n",
    "soup = BeautifulSoup(response.content, \"html.parser\")\n",
    "model_list = soup.find_all(\"article\", class_=\"overview-card-wrapper\")\n",
    "\n",
    "# collecting data for first 20 text generation models\n",
    "for model in model_list[:20]:\n",
    "    model_name = model.find(\"header\", class_=\"flex items-center mb-0.5\").text.strip()\n",
    "    model_details  = model.find(\"div\", class_=\"mr-1 flex items-center overflow-hidden whitespace-nowrap text-sm leading-tight text-gray-400\").text.replace(\"\\t\",\"*\").replace('\\n', '*').replace('• ',\"*\").strip('').split(\"*\")\n",
    "    model_details =list(filter(bool, model_details))\n",
    "    m_type= model_details[0]\n",
    "    updated = model_details[2]\n",
    "    downloaded= model_details[3]\n",
    "    liked= model_details[4]\n",
    "    dic = {\n",
    "        \"model_name\": model_name,\n",
    "        \"model_type\": m_type,\n",
    "        \"updated\" : updated,\n",
    "        \"downloaded\" : downloaded,\n",
    "        \"liked\" : liked\n",
    "    }\n",
    "    # print(dic,end=\"\\n\")\n",
    "    generation_models.append(dic)"
   ]
  },
  {
   "cell_type": "markdown",
   "id": "0c6cda06-6e36-42fb-9a1e-df2a82554be0",
   "metadata": {
    "tags": []
   },
   "source": [
    "### Creating a csv file from the data obtained from step 1"
   ]
  },
  {
   "cell_type": "code",
   "execution_count": 7,
   "id": "168e2bbb-9fbe-4c75-aca5-8907a00a2fc5",
   "metadata": {
    "tags": []
   },
   "outputs": [],
   "source": [
    "# Resuable function for saving data into csv format\n",
    "# First load the list into a panda dataframe \n",
    "# then create a csv using pandas build in to_csv() method\n",
    "def save_to_csv(data,filename):\n",
    "    data_df=pd.DataFrame(data)\n",
    "    data_df.to_csv(f\"all_csv_data/{filename}\",index=False)\n",
    "    "
   ]
  },
  {
   "cell_type": "code",
   "execution_count": 8,
   "id": "2dc3c7c6-8418-41c0-809a-c0e440a00a9a",
   "metadata": {
    "tags": []
   },
   "outputs": [],
   "source": [
    "save_to_csv(classification_models,\"classification_models.csv\")\n",
    "save_to_csv(generation_models,\"generation_models.csv\")"
   ]
  },
  {
   "cell_type": "markdown",
   "id": "9efeaa79-d238-4f80-9b2a-e3b083210a92",
   "metadata": {
    "tags": []
   },
   "source": [
    "# Step 2: Obtain and compare the number of ML apps (\"spaces\") for each \"Text Classification\" and \"text generation\" model"
   ]
  },
  {
   "cell_type": "code",
   "execution_count": 9,
   "id": "b1da4daf-feae-4492-9c3e-0f2d3b5b1c55",
   "metadata": {
    "tags": []
   },
   "outputs": [],
   "source": [
    "# function for finding the targeted element\n",
    "def find_elements(html, parent_selector):\n",
    "    soup = BeautifulSoup(html, 'html.parser')\n",
    "    parent_tag = soup.select_one(parent_selector)\n",
    "  \n",
    "    temp={\n",
    "    \"linkedSpaces\" : []\n",
    "    }\n",
    "    return parent_tag.get('data-props') if parent_tag is not None else json.dumps(temp)\n",
    "  "
   ]
  },
  {
   "cell_type": "code",
   "execution_count": 10,
   "id": "9b446f8d-ebd2-4a86-9d5d-17e16af65a26",
   "metadata": {
    "tags": []
   },
   "outputs": [],
   "source": [
    "nest_asyncio.apply()\n",
    "# asynchronous network call to faster execution time and parallel task execution\n",
    "async def fetch_linked_spaces(model_name, session):\n",
    "    model_url = f\"https://huggingface.co/{model_name['model_name']}\"\n",
    "    async with session.get(model_url) as response:\n",
    "        data = []\n",
    "        if response.status == 200:\n",
    "            content = await response.text()\n",
    "            soup = BeautifulSoup(content, \"html.parser\")\n",
    "            linked_spaces = soup.find_all(attrs={\"data-target\": \"LinkedSpacesList\"})\n",
    "            # print(linked_spaces)\n",
    "            if linked_spaces:\n",
    "                data = [item['id'] for item in json.loads(linked_spaces[0].get('data-props'))['linkedSpaces']]\n",
    "                \n",
    "        return {\n",
    "            \"model_name\": model_name['model_name'],\n",
    "            \"model_url\": model_url,\n",
    "            \"app_list\": data,\n",
    "            \"total_app\": len(data)\n",
    "        }\n",
    "\n",
    "async def get_app_count(models):\n",
    "    async with aiohttp.ClientSession() as session:\n",
    "        tasks = [fetch_linked_spaces(model_name, session) for model_name in models]\n",
    "        app_count = await asyncio.gather(*tasks)\n",
    "    return app_count\n",
    "\n",
    "async def main():\n",
    "    class_app_count = await get_app_count(classification_models)\n",
    "    gen_app_count = await get_app_count(generation_models)\n",
    "    return class_app_count,gen_app_count\n",
    "\n",
    "loop = asyncio.get_event_loop()\n",
    "classification_app_count,generation_app_count = loop.run_until_complete(main())"
   ]
  },
  {
   "cell_type": "code",
   "execution_count": 11,
   "id": "e8bae197-d823-4811-beeb-77ec7fbcced9",
   "metadata": {},
   "outputs": [],
   "source": [
    "save_to_csv(classification_app_count,\"classification_app_count.csv\")\n",
    "save_to_csv(generation_app_count,\"generation_app_count.csv\")"
   ]
  },
  {
   "cell_type": "markdown",
   "id": "b17ee39f-a836-4571-ac08-3210563255cb",
   "metadata": {
    "tags": []
   },
   "source": [
    "# Step 3 :obtain and compare the source code size of the ML apps (\"spaces\") obtained in step 2 (HINT: check the \"Files\" tab at the top-right of a given space's page)"
   ]
  },
  {
   "cell_type": "code",
   "execution_count": 12,
   "id": "6ad70c3e-8663-4383-a876-e967ecbe80da",
   "metadata": {
    "tags": []
   },
   "outputs": [],
   "source": [
    "# converting kb to bytes to store size in bytes\n",
    "def kb_to_bytes(kb):\n",
    "    s_bytes = kb * 1024\n",
    "    return s_bytes"
   ]
  },
  {
   "cell_type": "code",
   "execution_count": 13,
   "id": "c7b6fd92-1307-4a78-be75-e9af2c7d19e9",
   "metadata": {
    "tags": []
   },
   "outputs": [],
   "source": [
    "nest_asyncio.apply()\n",
    "# asynchronous network call to faster execution time and parallel task execution\n",
    "async def fetch_code_size(session, space):\n",
    "    space_url = f\"https://huggingface.co/spaces/{space}/tree/main\"\n",
    "    async with session.get(space_url) as response:\n",
    "        space_soup = BeautifulSoup(await response.text(), \"html.parser\")\n",
    "        file_download_selector = '[title=\"Download file\"]'\n",
    "        available_files = space_soup.select(file_download_selector)\n",
    "        code_size = sum([float(file.text.split(\" \")[0]) if file.text.split(\" \")[1].strip() != \"kB\" else kb_to_bytes(float(file.text.split(\" \")[0])) for file in available_files])\n",
    "    return {\"app_name\": space, \"size\": code_size}\n",
    "\n",
    "async def get_app_source_size(app_count):\n",
    "    async with aiohttp.ClientSession() as session:\n",
    "        tasks = [fetch_code_size(session, space) for x in app_count for space in x[\"app_list\"]]\n",
    "        app_source_size = await asyncio.gather(*tasks)\n",
    "    return app_source_size\n",
    "\n",
    "\n",
    "async def source_size_calc():\n",
    "    class_app_sizes= await get_app_source_size(classification_app_count)\n",
    "    gen_app_sizes = await get_app_source_size(generation_app_count)\n",
    "    return class_app_sizes, gen_app_sizes\n",
    "\n",
    "loop = asyncio.get_event_loop()\n",
    "class_app_source_sizes,gen_app_source_sizes=loop.run_until_complete(source_size_calc())"
   ]
  },
  {
   "cell_type": "markdown",
   "id": "d89aceed-c6bf-456d-b9ac-83f7c74c021e",
   "metadata": {
    "tags": []
   },
   "source": [
    "# Step 4 :  Some Data cleaning\n",
    "- droping the duplicate values (as multiple app can use same model)"
   ]
  },
  {
   "cell_type": "code",
   "execution_count": 15,
   "id": "65283f37-d468-4b4a-b80f-b7c712480642",
   "metadata": {
    "tags": []
   },
   "outputs": [],
   "source": [
    "# converting python list into panda dataframe\n",
    "class_df= pd.DataFrame(class_app_source_sizes)\n",
    "gen_df= pd.DataFrame(gen_app_source_sizes)"
   ]
  },
  {
   "cell_type": "code",
   "execution_count": 16,
   "id": "ba4ede9d-2b1b-4693-810b-5647e074d719",
   "metadata": {
    "tags": []
   },
   "outputs": [],
   "source": [
    "# droping the duplicate values (as multiple app can use same model)\n",
    "gen_df.drop_duplicates(inplace=True)\n",
    "class_df.drop_duplicates(inplace=True)"
   ]
  },
  {
   "cell_type": "code",
   "execution_count": 19,
   "id": "78616cfa-44bc-411e-816c-d3b0e9652aea",
   "metadata": {
    "tags": []
   },
   "outputs": [],
   "source": [
    "class_df.to_csv(\"all_csv_data/class_app_source_sizes.csv\",index=False)\n",
    "gen_df.to_csv(\"all_csv_data/gen_app_source_sizes.csv\",index=False)"
   ]
  },
  {
   "cell_type": "code",
   "execution_count": null,
   "id": "cea4968a-95e9-4c14-a83c-b7c7fab757d1",
   "metadata": {
    "tags": []
   },
   "outputs": [],
   "source": [
    "# all_model_names = [item['model_name'] for item in classification_app_count]\n",
    "# total_apps = [item['total_app'] for item in classification_app_count]\n",
    "\n",
    "# plt.barh(all_model_names, total_apps)\n",
    "\n",
    "# average = sum(total_apps) / len(total_apps)\n",
    "# plt.axvline(average, color='y', linestyle='--', label='Average')\n",
    "\n",
    "# plt.ylabel('Model Name')\n",
    "# plt.xlabel(f'Total App Count ( total = {sum(total_apps)}, avg = {average})')\n",
    "# plt.title('App Count for Text Classification Models')\n",
    "# plt.show()\n"
   ]
  },
  {
   "cell_type": "code",
   "execution_count": null,
   "id": "f61d5704-d6f5-4192-afbf-8ede1063477b",
   "metadata": {
    "tags": []
   },
   "outputs": [],
   "source": [
    "# all_model_names = [item['model_name'] for item in generation_app_count]\n",
    "# total_apps = [item['total_app'] for item in generation_app_count]\n",
    "\n",
    "# plt.barh(all_model_names, total_apps)\n",
    "\n",
    "# average = sum(total_apps) / len(total_apps)\n",
    "# plt.axvline(average, color='y', linestyle='--', label='Average')\n",
    "\n",
    "# plt.ylabel('Model Name')\n",
    "# plt.xlabel(f'Total App Count ( total = {sum(total_apps)}, avg = {average})')\n",
    "# plt.title('App Count for Text Generation Models')\n",
    "# plt.show()"
   ]
  },
  {
   "cell_type": "markdown",
   "id": "1d334a51-06f7-4ebb-8aa6-f944e1af7b8b",
   "metadata": {},
   "source": [
    "# Step 5: Merging all individual obtained value into one CSV for both text classification and text generation models\n",
    "- First merging step 1 obtaied data with step 2 obtained data using a common field called 'model_name'\n",
    "- Obtained data from the previous step has all the necessary columns and values from task step 1 and step 2\n",
    "- finally, will add a new column app_sizes to the previously retained data\n",
    "- app_sizes will contain list of the app's size in same order as app_list for a individual model"
   ]
  },
  {
   "cell_type": "code",
   "execution_count": 20,
   "id": "e1a6a9b2-b700-44d5-99db-2a01aaef927a",
   "metadata": {
    "tags": []
   },
   "outputs": [],
   "source": [
    "# reusable merging funciton\n",
    "def merge_csv_into_one(model_csv, app_count_csv, app_source_size_csv):\n",
    "    models_data= pd.read_csv(model_csv)\n",
    "    app_count_data=pd.read_csv(app_count_csv)\n",
    "    app_source_size_csv = pd.read_csv(app_source_size_csv)\n",
    "    \n",
    "    # merging step 1 and step 2 data into one\n",
    "    models_data = pd.merge(models_data,app_count_data, on ='model_name')\n",
    "    \n",
    "    # merging previously merged data and step 3\n",
    "    app_dict = dict(zip(app_source_size_csv['app_name'], app_source_size_csv['size']))\n",
    "\n",
    "    # Create a function to retrieve app sizes based on the space_list\n",
    "    def get_app_sizes(space_list):\n",
    "        space_list=ast.literal_eval(space_list)\n",
    "        return [app_dict.get(app_name) for app_name in space_list]\n",
    "\n",
    "    models_data['app_sizes'] = models_data['app_list'].apply(get_app_sizes)\n",
    "    return models_data"
   ]
  },
  {
   "cell_type": "code",
   "execution_count": 22,
   "id": "d3c4d0b2-f17a-4a9c-8fd1-718c9ccf2311",
   "metadata": {
    "tags": []
   },
   "outputs": [],
   "source": [
    "class_data_merged= merge_csv_into_one(\"all_csv_data/classification_models.csv\",\"all_csv_data/classification_app_count.csv\",\"all_csv_data/class_app_source_sizes.csv\")\n",
    "gen_data_merged = merge_csv_into_one(\"all_csv_data/generation_models.csv\",\"all_csv_data/generation_app_count.csv\",\"all_csv_data/gen_app_source_sizes.csv\")\n"
   ]
  },
  {
   "cell_type": "markdown",
   "id": "add67a86-83c1-49f0-b5af-b2afdd883cd8",
   "metadata": {},
   "source": [
    "### First 5 rows of data of text classification csv"
   ]
  },
  {
   "cell_type": "code",
   "execution_count": 23,
   "id": "7ac14f69-db61-4902-9f49-c7810c5a4dd8",
   "metadata": {
    "tags": []
   },
   "outputs": [
    {
     "data": {
      "text/html": [
       "<div>\n",
       "<style scoped>\n",
       "    .dataframe tbody tr th:only-of-type {\n",
       "        vertical-align: middle;\n",
       "    }\n",
       "\n",
       "    .dataframe tbody tr th {\n",
       "        vertical-align: top;\n",
       "    }\n",
       "\n",
       "    .dataframe thead th {\n",
       "        text-align: right;\n",
       "    }\n",
       "</style>\n",
       "<table border=\"1\" class=\"dataframe\">\n",
       "  <thead>\n",
       "    <tr style=\"text-align: right;\">\n",
       "      <th></th>\n",
       "      <th>model_name</th>\n",
       "      <th>model_type</th>\n",
       "      <th>updated</th>\n",
       "      <th>downloaded</th>\n",
       "      <th>liked</th>\n",
       "      <th>model_url</th>\n",
       "      <th>app_list</th>\n",
       "      <th>total_app</th>\n",
       "      <th>app_sizes</th>\n",
       "    </tr>\n",
       "  </thead>\n",
       "  <tbody>\n",
       "    <tr>\n",
       "      <th>0</th>\n",
       "      <td>distilbert-base-uncased-finetuned-sst-2-english</td>\n",
       "      <td>Text Classification</td>\n",
       "      <td>Oct 26</td>\n",
       "      <td>32.2M</td>\n",
       "      <td>354</td>\n",
       "      <td>https://huggingface.co/distilbert-base-uncased...</td>\n",
       "      <td>['microsoft/HuggingGPT', 'society-ethics/model...</td>\n",
       "      <td>208</td>\n",
       "      <td>[88343.64, 9619.24, 142854.32, 229976.2, 15153...</td>\n",
       "    </tr>\n",
       "    <tr>\n",
       "      <th>1</th>\n",
       "      <td>cardiffnlp/twitter-roberta-base-irony</td>\n",
       "      <td>Text Classification</td>\n",
       "      <td>Aug 2</td>\n",
       "      <td>6.77M</td>\n",
       "      <td>13</td>\n",
       "      <td>https://huggingface.co/cardiffnlp/twitter-robe...</td>\n",
       "      <td>['Eberhenriquez/cardiffnlp-twitter-roberta-bas...</td>\n",
       "      <td>1</td>\n",
       "      <td>[1927.48]</td>\n",
       "    </tr>\n",
       "    <tr>\n",
       "      <th>2</th>\n",
       "      <td>mrm8488/distilroberta-finetuned-financial-news...</td>\n",
       "      <td>Text Classification</td>\n",
       "      <td>Mar 16</td>\n",
       "      <td>6.52M</td>\n",
       "      <td>123</td>\n",
       "      <td>https://huggingface.co/mrm8488/distilroberta-f...</td>\n",
       "      <td>['sohomghosh/FLUEnT', 'Anthos23/hummus', 'niko...</td>\n",
       "      <td>14</td>\n",
       "      <td>[22595.450000000004, 2607.92, 4103.88, 3924.2,...</td>\n",
       "    </tr>\n",
       "    <tr>\n",
       "      <th>3</th>\n",
       "      <td>lxyuan/distilbert-base-multilingual-cased-sent...</td>\n",
       "      <td>Text Classification</td>\n",
       "      <td>Jun 24</td>\n",
       "      <td>6.51M</td>\n",
       "      <td>54</td>\n",
       "      <td>https://huggingface.co/lxyuan/distilbert-base-...</td>\n",
       "      <td>['jingwora/language-emotion-classification-sen...</td>\n",
       "      <td>10</td>\n",
       "      <td>[4370.56, 21825.76, 9136.08, 25861.08, 22069.5...</td>\n",
       "    </tr>\n",
       "    <tr>\n",
       "      <th>4</th>\n",
       "      <td>SamLowe/roberta-base-go_emotions</td>\n",
       "      <td>Text Classification</td>\n",
       "      <td>Oct 4</td>\n",
       "      <td>6.5M</td>\n",
       "      <td>190</td>\n",
       "      <td>https://huggingface.co/SamLowe/roberta-base-go...</td>\n",
       "      <td>['Pontonkid/Real-Time-Multilingual-sentiment-a...</td>\n",
       "      <td>28</td>\n",
       "      <td>[6954.07, 3583.28, 1888.48, 6157.48, 1917.48, ...</td>\n",
       "    </tr>\n",
       "  </tbody>\n",
       "</table>\n",
       "</div>"
      ],
      "text/plain": [
       "                                          model_name           model_type  \\\n",
       "0    distilbert-base-uncased-finetuned-sst-2-english  Text Classification   \n",
       "1              cardiffnlp/twitter-roberta-base-irony  Text Classification   \n",
       "2  mrm8488/distilroberta-finetuned-financial-news...  Text Classification   \n",
       "3  lxyuan/distilbert-base-multilingual-cased-sent...  Text Classification   \n",
       "4                   SamLowe/roberta-base-go_emotions  Text Classification   \n",
       "\n",
       "  updated downloaded  liked  \\\n",
       "0  Oct 26      32.2M    354   \n",
       "1   Aug 2      6.77M     13   \n",
       "2  Mar 16      6.52M    123   \n",
       "3  Jun 24      6.51M     54   \n",
       "4   Oct 4       6.5M    190   \n",
       "\n",
       "                                           model_url  \\\n",
       "0  https://huggingface.co/distilbert-base-uncased...   \n",
       "1  https://huggingface.co/cardiffnlp/twitter-robe...   \n",
       "2  https://huggingface.co/mrm8488/distilroberta-f...   \n",
       "3  https://huggingface.co/lxyuan/distilbert-base-...   \n",
       "4  https://huggingface.co/SamLowe/roberta-base-go...   \n",
       "\n",
       "                                            app_list  total_app  \\\n",
       "0  ['microsoft/HuggingGPT', 'society-ethics/model...        208   \n",
       "1  ['Eberhenriquez/cardiffnlp-twitter-roberta-bas...          1   \n",
       "2  ['sohomghosh/FLUEnT', 'Anthos23/hummus', 'niko...         14   \n",
       "3  ['jingwora/language-emotion-classification-sen...         10   \n",
       "4  ['Pontonkid/Real-Time-Multilingual-sentiment-a...         28   \n",
       "\n",
       "                                           app_sizes  \n",
       "0  [88343.64, 9619.24, 142854.32, 229976.2, 15153...  \n",
       "1                                          [1927.48]  \n",
       "2  [22595.450000000004, 2607.92, 4103.88, 3924.2,...  \n",
       "3  [4370.56, 21825.76, 9136.08, 25861.08, 22069.5...  \n",
       "4  [6954.07, 3583.28, 1888.48, 6157.48, 1917.48, ...  "
      ]
     },
     "execution_count": 23,
     "metadata": {},
     "output_type": "execute_result"
    }
   ],
   "source": [
    "class_data_merged.head()"
   ]
  },
  {
   "cell_type": "code",
   "execution_count": 26,
   "id": "7655f984-d9c9-4ad4-a738-2a2e59e8e811",
   "metadata": {
    "tags": []
   },
   "outputs": [],
   "source": [
    "### First 5 rows of data of text generation csv"
   ]
  },
  {
   "cell_type": "code",
   "execution_count": 24,
   "id": "9c0062cc-8b53-4eb0-8cb6-e7ff835ae5f2",
   "metadata": {
    "tags": []
   },
   "outputs": [
    {
     "data": {
      "text/html": [
       "<div>\n",
       "<style scoped>\n",
       "    .dataframe tbody tr th:only-of-type {\n",
       "        vertical-align: middle;\n",
       "    }\n",
       "\n",
       "    .dataframe tbody tr th {\n",
       "        vertical-align: top;\n",
       "    }\n",
       "\n",
       "    .dataframe thead th {\n",
       "        text-align: right;\n",
       "    }\n",
       "</style>\n",
       "<table border=\"1\" class=\"dataframe\">\n",
       "  <thead>\n",
       "    <tr style=\"text-align: right;\">\n",
       "      <th></th>\n",
       "      <th>model_name</th>\n",
       "      <th>model_type</th>\n",
       "      <th>updated</th>\n",
       "      <th>downloaded</th>\n",
       "      <th>liked</th>\n",
       "      <th>model_url</th>\n",
       "      <th>app_list</th>\n",
       "      <th>total_app</th>\n",
       "      <th>app_sizes</th>\n",
       "    </tr>\n",
       "  </thead>\n",
       "  <tbody>\n",
       "    <tr>\n",
       "      <th>0</th>\n",
       "      <td>gpt2</td>\n",
       "      <td>Text Generation</td>\n",
       "      <td>Jun 30</td>\n",
       "      <td>22M</td>\n",
       "      <td>1.51k</td>\n",
       "      <td>https://huggingface.co/gpt2</td>\n",
       "      <td>['HuggingFaceH4/open_llm_leaderboard', 'micros...</td>\n",
       "      <td>1147</td>\n",
       "      <td>[19864.64, 88343.64, 3860.82, 60292.2400000000...</td>\n",
       "    </tr>\n",
       "    <tr>\n",
       "      <th>1</th>\n",
       "      <td>distilgpt2</td>\n",
       "      <td>Text Generation</td>\n",
       "      <td>Apr 29</td>\n",
       "      <td>10.7M</td>\n",
       "      <td>275</td>\n",
       "      <td>https://huggingface.co/distilgpt2</td>\n",
       "      <td>['h2oai/h2ogpt-chatbot', 'multimodalart/mariog...</td>\n",
       "      <td>105</td>\n",
       "      <td>[20004.52, 9047.16, 18895.64, 180735.34, 16380...</td>\n",
       "    </tr>\n",
       "    <tr>\n",
       "      <th>2</th>\n",
       "      <td>tiiuae/falcon-7b-instruct</td>\n",
       "      <td>Text Generation</td>\n",
       "      <td>Sep 29</td>\n",
       "      <td>7.33M</td>\n",
       "      <td>754</td>\n",
       "      <td>https://huggingface.co/tiiuae/falcon-7b-instruct</td>\n",
       "      <td>['h2oai/h2ogpt-chatbot', 'h2oai/h2ogpt-chatbot...</td>\n",
       "      <td>187</td>\n",
       "      <td>[20004.52, 18895.64, 46087.32, 7106.6399999999...</td>\n",
       "    </tr>\n",
       "    <tr>\n",
       "      <th>3</th>\n",
       "      <td>stabilityai/StableBeluga-7B</td>\n",
       "      <td>Text Generation</td>\n",
       "      <td>Aug 29</td>\n",
       "      <td>3.09M</td>\n",
       "      <td>124</td>\n",
       "      <td>https://huggingface.co/stabilityai/StableBelug...</td>\n",
       "      <td>['HuggingFaceH4/open_llm_leaderboard', 'upstag...</td>\n",
       "      <td>27</td>\n",
       "      <td>[19864.64, 30901.22, 46087.32, 74241.91, 7100....</td>\n",
       "    </tr>\n",
       "    <tr>\n",
       "      <th>4</th>\n",
       "      <td>davidkim205/komt-mistral-7b-v1</td>\n",
       "      <td>Text Generation</td>\n",
       "      <td>Oct 24</td>\n",
       "      <td>1.33M</td>\n",
       "      <td>5</td>\n",
       "      <td>https://huggingface.co/davidkim205/komt-mistra...</td>\n",
       "      <td>[]</td>\n",
       "      <td>0</td>\n",
       "      <td>[]</td>\n",
       "    </tr>\n",
       "  </tbody>\n",
       "</table>\n",
       "</div>"
      ],
      "text/plain": [
       "                       model_name       model_type updated downloaded  liked  \\\n",
       "0                            gpt2  Text Generation  Jun 30        22M  1.51k   \n",
       "1                      distilgpt2  Text Generation  Apr 29      10.7M    275   \n",
       "2       tiiuae/falcon-7b-instruct  Text Generation  Sep 29      7.33M    754   \n",
       "3     stabilityai/StableBeluga-7B  Text Generation  Aug 29      3.09M    124   \n",
       "4  davidkim205/komt-mistral-7b-v1  Text Generation  Oct 24      1.33M      5   \n",
       "\n",
       "                                           model_url  \\\n",
       "0                        https://huggingface.co/gpt2   \n",
       "1                  https://huggingface.co/distilgpt2   \n",
       "2   https://huggingface.co/tiiuae/falcon-7b-instruct   \n",
       "3  https://huggingface.co/stabilityai/StableBelug...   \n",
       "4  https://huggingface.co/davidkim205/komt-mistra...   \n",
       "\n",
       "                                            app_list  total_app  \\\n",
       "0  ['HuggingFaceH4/open_llm_leaderboard', 'micros...       1147   \n",
       "1  ['h2oai/h2ogpt-chatbot', 'multimodalart/mariog...        105   \n",
       "2  ['h2oai/h2ogpt-chatbot', 'h2oai/h2ogpt-chatbot...        187   \n",
       "3  ['HuggingFaceH4/open_llm_leaderboard', 'upstag...         27   \n",
       "4                                                 []          0   \n",
       "\n",
       "                                           app_sizes  \n",
       "0  [19864.64, 88343.64, 3860.82, 60292.2400000000...  \n",
       "1  [20004.52, 9047.16, 18895.64, 180735.34, 16380...  \n",
       "2  [20004.52, 18895.64, 46087.32, 7106.6399999999...  \n",
       "3  [19864.64, 30901.22, 46087.32, 74241.91, 7100....  \n",
       "4                                                 []  "
      ]
     },
     "execution_count": 24,
     "metadata": {},
     "output_type": "execute_result"
    }
   ],
   "source": [
    "gen_data_merged.head()"
   ]
  },
  {
   "cell_type": "code",
   "execution_count": 25,
   "id": "768824f3-f897-4c3b-b476-744315b5b486",
   "metadata": {
    "tags": []
   },
   "outputs": [],
   "source": [
    "# saving the merged data into a csv \n",
    "class_data_merged.to_csv(\"all_csv_data/Classification_model_full_data.csv\",index=False)\n",
    "gen_data_merged.to_csv(\"all_csv_data/Generation_mode_full_data.csv\",index=False)"
   ]
  }
 ],
 "metadata": {
  "kernelspec": {
   "display_name": "Python 3 (ipykernel)",
   "language": "python",
   "name": "python3"
  },
  "language_info": {
   "codemirror_mode": {
    "name": "ipython",
    "version": 3
   },
   "file_extension": ".py",
   "mimetype": "text/x-python",
   "name": "python",
   "nbconvert_exporter": "python",
   "pygments_lexer": "ipython3",
   "version": "3.11.4"
  }
 },
 "nbformat": 4,
 "nbformat_minor": 5
}
